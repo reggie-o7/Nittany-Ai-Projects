{
  "nbformat": 4,
  "nbformat_minor": 0,
  "metadata": {
    "colab": {
      "provenance": []
    },
    "kernelspec": {
      "name": "python3",
      "display_name": "Python 3"
    },
    "language_info": {
      "name": "python"
    }
  },
  "cells": [
    {
      "cell_type": "code",
      "execution_count": 7,
      "metadata": {
        "colab": {
          "base_uri": "https://localhost:8080/"
        },
        "collapsed": true,
        "id": "fYdfr_Cn1sDj",
        "outputId": "d8a82586-4f9e-4bdc-eab1-2c377fa33177"
      },
      "outputs": [
        {
          "output_type": "stream",
          "name": "stdout",
          "text": [
            "Requirement already satisfied: openai in /usr/local/lib/python3.12/dist-packages (1.106.1)\n",
            "Requirement already satisfied: anyio<5,>=3.5.0 in /usr/local/lib/python3.12/dist-packages (from openai) (4.10.0)\n",
            "Requirement already satisfied: distro<2,>=1.7.0 in /usr/local/lib/python3.12/dist-packages (from openai) (1.9.0)\n",
            "Requirement already satisfied: httpx<1,>=0.23.0 in /usr/local/lib/python3.12/dist-packages (from openai) (0.28.1)\n",
            "Requirement already satisfied: jiter<1,>=0.4.0 in /usr/local/lib/python3.12/dist-packages (from openai) (0.10.0)\n",
            "Requirement already satisfied: pydantic<3,>=1.9.0 in /usr/local/lib/python3.12/dist-packages (from openai) (2.11.7)\n",
            "Requirement already satisfied: sniffio in /usr/local/lib/python3.12/dist-packages (from openai) (1.3.1)\n",
            "Requirement already satisfied: tqdm>4 in /usr/local/lib/python3.12/dist-packages (from openai) (4.67.1)\n",
            "Requirement already satisfied: typing-extensions<5,>=4.11 in /usr/local/lib/python3.12/dist-packages (from openai) (4.15.0)\n",
            "Requirement already satisfied: idna>=2.8 in /usr/local/lib/python3.12/dist-packages (from anyio<5,>=3.5.0->openai) (3.10)\n",
            "Requirement already satisfied: certifi in /usr/local/lib/python3.12/dist-packages (from httpx<1,>=0.23.0->openai) (2025.8.3)\n",
            "Requirement already satisfied: httpcore==1.* in /usr/local/lib/python3.12/dist-packages (from httpx<1,>=0.23.0->openai) (1.0.9)\n",
            "Requirement already satisfied: h11>=0.16 in /usr/local/lib/python3.12/dist-packages (from httpcore==1.*->httpx<1,>=0.23.0->openai) (0.16.0)\n",
            "Requirement already satisfied: annotated-types>=0.6.0 in /usr/local/lib/python3.12/dist-packages (from pydantic<3,>=1.9.0->openai) (0.7.0)\n",
            "Requirement already satisfied: pydantic-core==2.33.2 in /usr/local/lib/python3.12/dist-packages (from pydantic<3,>=1.9.0->openai) (2.33.2)\n",
            "Requirement already satisfied: typing-inspection>=0.4.0 in /usr/local/lib/python3.12/dist-packages (from pydantic<3,>=1.9.0->openai) (0.4.1)\n",
            "[MOCK RESPONSE] Based on the file: Lionel Messi is an Argentinian football player.\n",
            "Messi has won numerous Ballon d'Or awards, multiple UEFA Champions League titles, and the 2022 FIFA World Cup with Argentina.\n"
          ]
        }
      ],
      "source": [
        "!pip install --upgrade openai\n",
        "\n",
        "import openai\n",
        "import os\n",
        "import time\n",
        "\n",
        "openai.api_key = os.getenv(\"OPENAI_API_KEY\")\n",
        "\n",
        "def query_messi_info(query):\n",
        "\n",
        "    \"\"\"\n",
        "    Retrieves information from a local file and queries GPT for an answer.\n",
        "    Includes retry logic for rate limits and temporary errors.\n",
        "    \"\"\"\n",
        "\n",
        "    if not os.path.exists(\"messi.txt\"):\n",
        "        with open(\"messi.txt\", \"w\") as file:\n",
        "            file.write(\"Lionel Messi is an Argentinian football player.\")\n",
        "\n",
        "    # Read file content\n",
        "    with open(\"messi.txt\", \"r\") as file:\n",
        "        messi_info = file.read()\n",
        "\n",
        "    # If no API key, return a mock answer (for demo purposes)\n",
        "    if not openai.api_key:\n",
        "        return f\"[MOCK RESPONSE] Based on the file: {messi_info}\\nMessi has won numerous Ballon d'Or awards, multiple UEFA Champions League titles, and the 2022 FIFA World Cup with Argentina.\"\n",
        "\n",
        "    # Retry parameters\n",
        "    max_retries = 5\n",
        "    retry_delay = 2\n",
        "\n",
        "    for i in range(max_retries):\n",
        "        try:\n",
        "            response = openai.chat.completions.create(\n",
        "                model=\"gpt-3.5-turbo\",\n",
        "                messages=[\n",
        "                    {\"role\": \"system\", \"content\": f\"Given the following information about Lionel Messi: {messi_info}\"},\n",
        "                    {\"role\": \"user\", \"content\": query},\n",
        "                ],\n",
        "                max_tokens=150\n",
        "            )\n",
        "            return response.choices[0].message.content.strip()\n",
        "\n",
        "        except openai.RateLimitError:\n",
        "            if i < max_retries - 1:\n",
        "                time.sleep(retry_delay)\n",
        "                retry_delay *= 2\n",
        "                print(f\"Rate limit hit. Retrying in {retry_delay} seconds...\")\n",
        "            else:\n",
        "                return \"Failed due to rate limits.\"\n",
        "        except Exception as e:\n",
        "            return f\"Request failed: {e}\"\n",
        "\n",
        "\n",
        "if __name__ == \"__main__\":\n",
        "  user_query = \"What are Lionel Messi's major achievements?\"\n",
        "  answer = query_messi_info(user_query)\n",
        "\n",
        "  print(answer)"
      ]
    }
  ]
}
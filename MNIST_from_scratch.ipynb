{
  "nbformat": 4,
  "nbformat_minor": 0,
  "metadata": {
    "colab": {
      "provenance": []
    },
    "kernelspec": {
      "name": "python3",
      "display_name": "Python 3"
    },
    "language_info": {
      "name": "python"
    }
  },
  "cells": [
    {
      "cell_type": "code",
      "execution_count": null,
      "metadata": {
        "id": "wSlCSQzGcFQe"
      },
      "outputs": [],
      "source": [
        "/content/drive/MyDrive/Dataset MNIST/train.csv"
      ]
    },
    {
      "cell_type": "code",
      "source": [
        "import numpy as np\n",
        "import pandas as pd\n",
        "from matplotlib import pyplot as plt"
      ],
      "metadata": {
        "id": "s1tqBxrOMKLS"
      },
      "execution_count": 1,
      "outputs": []
    },
    {
      "cell_type": "code",
      "source": [
        "path = \"/content/drive/MyDrive/Dataset MNIST/train.csv\"\n",
        "data = pd.read_csv(path)\n",
        "data.head()"
      ],
      "metadata": {
        "colab": {
          "base_uri": "https://localhost:8080/",
          "height": 236
        },
        "id": "47_uPXeLML1H",
        "outputId": "51890745-1361-4ffb-e149-2b90dbebca86"
      },
      "execution_count": 2,
      "outputs": [
        {
          "output_type": "execute_result",
          "data": {
            "text/plain": [
              "   label  pixel0  pixel1  pixel2  pixel3  pixel4  pixel5  pixel6  pixel7  \\\n",
              "0      1       0       0       0       0       0       0       0       0   \n",
              "1      0       0       0       0       0       0       0       0       0   \n",
              "2      1       0       0       0       0       0       0       0       0   \n",
              "3      4       0       0       0       0       0       0       0       0   \n",
              "4      0       0       0       0       0       0       0       0       0   \n",
              "\n",
              "   pixel8  ...  pixel774  pixel775  pixel776  pixel777  pixel778  pixel779  \\\n",
              "0       0  ...         0         0         0         0         0         0   \n",
              "1       0  ...         0         0         0         0         0         0   \n",
              "2       0  ...         0         0         0         0         0         0   \n",
              "3       0  ...         0         0         0         0         0         0   \n",
              "4       0  ...         0         0         0         0         0         0   \n",
              "\n",
              "   pixel780  pixel781  pixel782  pixel783  \n",
              "0         0         0         0         0  \n",
              "1         0         0         0         0  \n",
              "2         0         0         0         0  \n",
              "3         0         0         0         0  \n",
              "4         0         0         0         0  \n",
              "\n",
              "[5 rows x 785 columns]"
            ],
            "text/html": [
              "\n",
              "  <div id=\"df-6866b9fe-c1b4-41fd-a856-ca49c3583f05\" class=\"colab-df-container\">\n",
              "    <div>\n",
              "<style scoped>\n",
              "    .dataframe tbody tr th:only-of-type {\n",
              "        vertical-align: middle;\n",
              "    }\n",
              "\n",
              "    .dataframe tbody tr th {\n",
              "        vertical-align: top;\n",
              "    }\n",
              "\n",
              "    .dataframe thead th {\n",
              "        text-align: right;\n",
              "    }\n",
              "</style>\n",
              "<table border=\"1\" class=\"dataframe\">\n",
              "  <thead>\n",
              "    <tr style=\"text-align: right;\">\n",
              "      <th></th>\n",
              "      <th>label</th>\n",
              "      <th>pixel0</th>\n",
              "      <th>pixel1</th>\n",
              "      <th>pixel2</th>\n",
              "      <th>pixel3</th>\n",
              "      <th>pixel4</th>\n",
              "      <th>pixel5</th>\n",
              "      <th>pixel6</th>\n",
              "      <th>pixel7</th>\n",
              "      <th>pixel8</th>\n",
              "      <th>...</th>\n",
              "      <th>pixel774</th>\n",
              "      <th>pixel775</th>\n",
              "      <th>pixel776</th>\n",
              "      <th>pixel777</th>\n",
              "      <th>pixel778</th>\n",
              "      <th>pixel779</th>\n",
              "      <th>pixel780</th>\n",
              "      <th>pixel781</th>\n",
              "      <th>pixel782</th>\n",
              "      <th>pixel783</th>\n",
              "    </tr>\n",
              "  </thead>\n",
              "  <tbody>\n",
              "    <tr>\n",
              "      <th>0</th>\n",
              "      <td>1</td>\n",
              "      <td>0</td>\n",
              "      <td>0</td>\n",
              "      <td>0</td>\n",
              "      <td>0</td>\n",
              "      <td>0</td>\n",
              "      <td>0</td>\n",
              "      <td>0</td>\n",
              "      <td>0</td>\n",
              "      <td>0</td>\n",
              "      <td>...</td>\n",
              "      <td>0</td>\n",
              "      <td>0</td>\n",
              "      <td>0</td>\n",
              "      <td>0</td>\n",
              "      <td>0</td>\n",
              "      <td>0</td>\n",
              "      <td>0</td>\n",
              "      <td>0</td>\n",
              "      <td>0</td>\n",
              "      <td>0</td>\n",
              "    </tr>\n",
              "    <tr>\n",
              "      <th>1</th>\n",
              "      <td>0</td>\n",
              "      <td>0</td>\n",
              "      <td>0</td>\n",
              "      <td>0</td>\n",
              "      <td>0</td>\n",
              "      <td>0</td>\n",
              "      <td>0</td>\n",
              "      <td>0</td>\n",
              "      <td>0</td>\n",
              "      <td>0</td>\n",
              "      <td>...</td>\n",
              "      <td>0</td>\n",
              "      <td>0</td>\n",
              "      <td>0</td>\n",
              "      <td>0</td>\n",
              "      <td>0</td>\n",
              "      <td>0</td>\n",
              "      <td>0</td>\n",
              "      <td>0</td>\n",
              "      <td>0</td>\n",
              "      <td>0</td>\n",
              "    </tr>\n",
              "    <tr>\n",
              "      <th>2</th>\n",
              "      <td>1</td>\n",
              "      <td>0</td>\n",
              "      <td>0</td>\n",
              "      <td>0</td>\n",
              "      <td>0</td>\n",
              "      <td>0</td>\n",
              "      <td>0</td>\n",
              "      <td>0</td>\n",
              "      <td>0</td>\n",
              "      <td>0</td>\n",
              "      <td>...</td>\n",
              "      <td>0</td>\n",
              "      <td>0</td>\n",
              "      <td>0</td>\n",
              "      <td>0</td>\n",
              "      <td>0</td>\n",
              "      <td>0</td>\n",
              "      <td>0</td>\n",
              "      <td>0</td>\n",
              "      <td>0</td>\n",
              "      <td>0</td>\n",
              "    </tr>\n",
              "    <tr>\n",
              "      <th>3</th>\n",
              "      <td>4</td>\n",
              "      <td>0</td>\n",
              "      <td>0</td>\n",
              "      <td>0</td>\n",
              "      <td>0</td>\n",
              "      <td>0</td>\n",
              "      <td>0</td>\n",
              "      <td>0</td>\n",
              "      <td>0</td>\n",
              "      <td>0</td>\n",
              "      <td>...</td>\n",
              "      <td>0</td>\n",
              "      <td>0</td>\n",
              "      <td>0</td>\n",
              "      <td>0</td>\n",
              "      <td>0</td>\n",
              "      <td>0</td>\n",
              "      <td>0</td>\n",
              "      <td>0</td>\n",
              "      <td>0</td>\n",
              "      <td>0</td>\n",
              "    </tr>\n",
              "    <tr>\n",
              "      <th>4</th>\n",
              "      <td>0</td>\n",
              "      <td>0</td>\n",
              "      <td>0</td>\n",
              "      <td>0</td>\n",
              "      <td>0</td>\n",
              "      <td>0</td>\n",
              "      <td>0</td>\n",
              "      <td>0</td>\n",
              "      <td>0</td>\n",
              "      <td>0</td>\n",
              "      <td>...</td>\n",
              "      <td>0</td>\n",
              "      <td>0</td>\n",
              "      <td>0</td>\n",
              "      <td>0</td>\n",
              "      <td>0</td>\n",
              "      <td>0</td>\n",
              "      <td>0</td>\n",
              "      <td>0</td>\n",
              "      <td>0</td>\n",
              "      <td>0</td>\n",
              "    </tr>\n",
              "  </tbody>\n",
              "</table>\n",
              "<p>5 rows × 785 columns</p>\n",
              "</div>\n",
              "    <div class=\"colab-df-buttons\">\n",
              "\n",
              "  <div class=\"colab-df-container\">\n",
              "    <button class=\"colab-df-convert\" onclick=\"convertToInteractive('df-6866b9fe-c1b4-41fd-a856-ca49c3583f05')\"\n",
              "            title=\"Convert this dataframe to an interactive table.\"\n",
              "            style=\"display:none;\">\n",
              "\n",
              "  <svg xmlns=\"http://www.w3.org/2000/svg\" height=\"24px\" viewBox=\"0 -960 960 960\">\n",
              "    <path d=\"M120-120v-720h720v720H120Zm60-500h600v-160H180v160Zm220 220h160v-160H400v160Zm0 220h160v-160H400v160ZM180-400h160v-160H180v160Zm440 0h160v-160H620v160ZM180-180h160v-160H180v160Zm440 0h160v-160H620v160Z\"/>\n",
              "  </svg>\n",
              "    </button>\n",
              "\n",
              "  <style>\n",
              "    .colab-df-container {\n",
              "      display:flex;\n",
              "      gap: 12px;\n",
              "    }\n",
              "\n",
              "    .colab-df-convert {\n",
              "      background-color: #E8F0FE;\n",
              "      border: none;\n",
              "      border-radius: 50%;\n",
              "      cursor: pointer;\n",
              "      display: none;\n",
              "      fill: #1967D2;\n",
              "      height: 32px;\n",
              "      padding: 0 0 0 0;\n",
              "      width: 32px;\n",
              "    }\n",
              "\n",
              "    .colab-df-convert:hover {\n",
              "      background-color: #E2EBFA;\n",
              "      box-shadow: 0px 1px 2px rgba(60, 64, 67, 0.3), 0px 1px 3px 1px rgba(60, 64, 67, 0.15);\n",
              "      fill: #174EA6;\n",
              "    }\n",
              "\n",
              "    .colab-df-buttons div {\n",
              "      margin-bottom: 4px;\n",
              "    }\n",
              "\n",
              "    [theme=dark] .colab-df-convert {\n",
              "      background-color: #3B4455;\n",
              "      fill: #D2E3FC;\n",
              "    }\n",
              "\n",
              "    [theme=dark] .colab-df-convert:hover {\n",
              "      background-color: #434B5C;\n",
              "      box-shadow: 0px 1px 3px 1px rgba(0, 0, 0, 0.15);\n",
              "      filter: drop-shadow(0px 1px 2px rgba(0, 0, 0, 0.3));\n",
              "      fill: #FFFFFF;\n",
              "    }\n",
              "  </style>\n",
              "\n",
              "    <script>\n",
              "      const buttonEl =\n",
              "        document.querySelector('#df-6866b9fe-c1b4-41fd-a856-ca49c3583f05 button.colab-df-convert');\n",
              "      buttonEl.style.display =\n",
              "        google.colab.kernel.accessAllowed ? 'block' : 'none';\n",
              "\n",
              "      async function convertToInteractive(key) {\n",
              "        const element = document.querySelector('#df-6866b9fe-c1b4-41fd-a856-ca49c3583f05');\n",
              "        const dataTable =\n",
              "          await google.colab.kernel.invokeFunction('convertToInteractive',\n",
              "                                                    [key], {});\n",
              "        if (!dataTable) return;\n",
              "\n",
              "        const docLinkHtml = 'Like what you see? Visit the ' +\n",
              "          '<a target=\"_blank\" href=https://colab.research.google.com/notebooks/data_table.ipynb>data table notebook</a>'\n",
              "          + ' to learn more about interactive tables.';\n",
              "        element.innerHTML = '';\n",
              "        dataTable['output_type'] = 'display_data';\n",
              "        await google.colab.output.renderOutput(dataTable, element);\n",
              "        const docLink = document.createElement('div');\n",
              "        docLink.innerHTML = docLinkHtml;\n",
              "        element.appendChild(docLink);\n",
              "      }\n",
              "    </script>\n",
              "  </div>\n",
              "\n",
              "\n",
              "<div id=\"df-7022cfdc-4379-4bc7-997d-363f07f77e07\">\n",
              "  <button class=\"colab-df-quickchart\" onclick=\"quickchart('df-7022cfdc-4379-4bc7-997d-363f07f77e07')\"\n",
              "            title=\"Suggest charts\"\n",
              "            style=\"display:none;\">\n",
              "\n",
              "<svg xmlns=\"http://www.w3.org/2000/svg\" height=\"24px\"viewBox=\"0 0 24 24\"\n",
              "     width=\"24px\">\n",
              "    <g>\n",
              "        <path d=\"M19 3H5c-1.1 0-2 .9-2 2v14c0 1.1.9 2 2 2h14c1.1 0 2-.9 2-2V5c0-1.1-.9-2-2-2zM9 17H7v-7h2v7zm4 0h-2V7h2v10zm4 0h-2v-4h2v4z\"/>\n",
              "    </g>\n",
              "</svg>\n",
              "  </button>\n",
              "\n",
              "<style>\n",
              "  .colab-df-quickchart {\n",
              "      --bg-color: #E8F0FE;\n",
              "      --fill-color: #1967D2;\n",
              "      --hover-bg-color: #E2EBFA;\n",
              "      --hover-fill-color: #174EA6;\n",
              "      --disabled-fill-color: #AAA;\n",
              "      --disabled-bg-color: #DDD;\n",
              "  }\n",
              "\n",
              "  [theme=dark] .colab-df-quickchart {\n",
              "      --bg-color: #3B4455;\n",
              "      --fill-color: #D2E3FC;\n",
              "      --hover-bg-color: #434B5C;\n",
              "      --hover-fill-color: #FFFFFF;\n",
              "      --disabled-bg-color: #3B4455;\n",
              "      --disabled-fill-color: #666;\n",
              "  }\n",
              "\n",
              "  .colab-df-quickchart {\n",
              "    background-color: var(--bg-color);\n",
              "    border: none;\n",
              "    border-radius: 50%;\n",
              "    cursor: pointer;\n",
              "    display: none;\n",
              "    fill: var(--fill-color);\n",
              "    height: 32px;\n",
              "    padding: 0;\n",
              "    width: 32px;\n",
              "  }\n",
              "\n",
              "  .colab-df-quickchart:hover {\n",
              "    background-color: var(--hover-bg-color);\n",
              "    box-shadow: 0 1px 2px rgba(60, 64, 67, 0.3), 0 1px 3px 1px rgba(60, 64, 67, 0.15);\n",
              "    fill: var(--button-hover-fill-color);\n",
              "  }\n",
              "\n",
              "  .colab-df-quickchart-complete:disabled,\n",
              "  .colab-df-quickchart-complete:disabled:hover {\n",
              "    background-color: var(--disabled-bg-color);\n",
              "    fill: var(--disabled-fill-color);\n",
              "    box-shadow: none;\n",
              "  }\n",
              "\n",
              "  .colab-df-spinner {\n",
              "    border: 2px solid var(--fill-color);\n",
              "    border-color: transparent;\n",
              "    border-bottom-color: var(--fill-color);\n",
              "    animation:\n",
              "      spin 1s steps(1) infinite;\n",
              "  }\n",
              "\n",
              "  @keyframes spin {\n",
              "    0% {\n",
              "      border-color: transparent;\n",
              "      border-bottom-color: var(--fill-color);\n",
              "      border-left-color: var(--fill-color);\n",
              "    }\n",
              "    20% {\n",
              "      border-color: transparent;\n",
              "      border-left-color: var(--fill-color);\n",
              "      border-top-color: var(--fill-color);\n",
              "    }\n",
              "    30% {\n",
              "      border-color: transparent;\n",
              "      border-left-color: var(--fill-color);\n",
              "      border-top-color: var(--fill-color);\n",
              "      border-right-color: var(--fill-color);\n",
              "    }\n",
              "    40% {\n",
              "      border-color: transparent;\n",
              "      border-right-color: var(--fill-color);\n",
              "      border-top-color: var(--fill-color);\n",
              "    }\n",
              "    60% {\n",
              "      border-color: transparent;\n",
              "      border-right-color: var(--fill-color);\n",
              "    }\n",
              "    80% {\n",
              "      border-color: transparent;\n",
              "      border-right-color: var(--fill-color);\n",
              "      border-bottom-color: var(--fill-color);\n",
              "    }\n",
              "    90% {\n",
              "      border-color: transparent;\n",
              "      border-bottom-color: var(--fill-color);\n",
              "    }\n",
              "  }\n",
              "</style>\n",
              "\n",
              "  <script>\n",
              "    async function quickchart(key) {\n",
              "      const quickchartButtonEl =\n",
              "        document.querySelector('#' + key + ' button');\n",
              "      quickchartButtonEl.disabled = true;  // To prevent multiple clicks.\n",
              "      quickchartButtonEl.classList.add('colab-df-spinner');\n",
              "      try {\n",
              "        const charts = await google.colab.kernel.invokeFunction(\n",
              "            'suggestCharts', [key], {});\n",
              "      } catch (error) {\n",
              "        console.error('Error during call to suggestCharts:', error);\n",
              "      }\n",
              "      quickchartButtonEl.classList.remove('colab-df-spinner');\n",
              "      quickchartButtonEl.classList.add('colab-df-quickchart-complete');\n",
              "    }\n",
              "    (() => {\n",
              "      let quickchartButtonEl =\n",
              "        document.querySelector('#df-7022cfdc-4379-4bc7-997d-363f07f77e07 button');\n",
              "      quickchartButtonEl.style.display =\n",
              "        google.colab.kernel.accessAllowed ? 'block' : 'none';\n",
              "    })();\n",
              "  </script>\n",
              "</div>\n",
              "\n",
              "    </div>\n",
              "  </div>\n"
            ],
            "application/vnd.google.colaboratory.intrinsic+json": {
              "type": "dataframe",
              "variable_name": "data"
            }
          },
          "metadata": {},
          "execution_count": 2
        }
      ]
    },
    {
      "cell_type": "code",
      "source": [
        "data = np.array(data)\n",
        "m, n = data.shape\n",
        "np.random.shuffle(data)\n",
        "\n",
        "data_dev = data[0:1000].T\n",
        "Y_dev = data_dev[0]\n",
        "X_dev = data_dev[1:n]\n",
        "X_dev = X_dev / 255.\n",
        "\n",
        "data_train = data[1000:m].T\n",
        "Y_train = data_train[0]\n",
        "X_train = data_train[1:n]\n",
        "X_train = X_train / 255.\n",
        "_,m_train = X_train.shape"
      ],
      "metadata": {
        "id": "q82r7cZjMTvi"
      },
      "execution_count": 3,
      "outputs": []
    },
    {
      "cell_type": "code",
      "source": [
        "Y_train"
      ],
      "metadata": {
        "colab": {
          "base_uri": "https://localhost:8080/"
        },
        "id": "lx1rkiokMW3z",
        "outputId": "c84d4054-8787-4df9-9450-4e56b598c9d8"
      },
      "execution_count": 5,
      "outputs": [
        {
          "output_type": "execute_result",
          "data": {
            "text/plain": [
              "array([9, 9, 8, ..., 9, 0, 8])"
            ]
          },
          "metadata": {},
          "execution_count": 5
        }
      ]
    },
    {
      "cell_type": "code",
      "source": [
        "X_train[:, 0].shape"
      ],
      "metadata": {
        "colab": {
          "base_uri": "https://localhost:8080/"
        },
        "id": "2idqVMTZMaaB",
        "outputId": "1a2a968f-06f5-4308-95c6-12205315fed5"
      },
      "execution_count": 6,
      "outputs": [
        {
          "output_type": "execute_result",
          "data": {
            "text/plain": [
              "(784,)"
            ]
          },
          "metadata": {},
          "execution_count": 6
        }
      ]
    },
    {
      "cell_type": "code",
      "source": [
        "def init_params():\n",
        "    W1 = np.random.rand(10, 784) - 0.5\n",
        "    b1 = np.random.rand(10 ,1) - 0.5\n",
        "    W2 = np.random.rand(10, 10) - 0.5\n",
        "    b2 = np.random.rand(10 ,1) - 0.5\n",
        "    return W1, b1, W2, b2\n",
        "\n",
        "def ReLU(Z):\n",
        "    return np.maximum(Z, 0)\n",
        "\n",
        "def softmax(Z):\n",
        "    A = np.exp(Z) / sum(np.exp(Z))\n",
        "    return A\n",
        "\n",
        "def forward_prop(W1, b1, W2, b2, X):\n",
        "    Z1 =W1.dot(X) + b1\n",
        "    A1 = ReLU(Z1)\n",
        "    Z2 = W2.dot(A1) + b2\n",
        "    A2 = softmax(Z2)\n",
        "    return Z1, A1, Z2, A2\n",
        "\n",
        "def one_hot(Y):\n",
        "    one_hot_Y = np.zeros((Y.size, Y.max() + 1))\n",
        "    one_hot_Y[np.arange(Y.size), Y] = 1\n",
        "    one_hot_Y = one_hot_Y.T\n",
        "    return one_hot_Y\n",
        "\n",
        "def ReLU_deriv(Z):\n",
        "    return Z > 0\n",
        "\n",
        "def back_prop(Z1, A1, Z2, A2, W1, W2, X, Y):\n",
        "    one_hotY = one_hot(Y)\n",
        "    dZ2 = A2 - one_hot(Y)\n",
        "    dW2 = 1 / m * dZ2.dot(A1.T)\n",
        "    db2 = 1 / m * np.sum(dZ2)\n",
        "    dZ1 = W2.T.dot(dZ2) * ReLU_deriv(Z1)\n",
        "    dW1 = 1 / m * dZ1.dot(X.T)\n",
        "    db1 = 1 / m * np.sum(dZ1)\n",
        "    return dW1, db1, dW2, db2\n",
        "\n",
        "def update_params(W1, b1, W2, b2, dW1, db1, dW2, db2, alpha):\n",
        "    W1 = W1 - alpha * dW1\n",
        "    b1 = b1 - alpha * db1\n",
        "    W2 = W2 - alpha * dW2\n",
        "    b2 = b2 - alpha * db2\n",
        "    return W1, b1, W2, b2"
      ],
      "metadata": {
        "id": "JZXOrs6LMcxX"
      },
      "execution_count": 7,
      "outputs": []
    },
    {
      "cell_type": "code",
      "source": [
        "def get_predictions(A2):\n",
        "    return np.argmax(A2, 0)\n",
        "\n",
        "def get_accuracy(predictions, Y):\n",
        "    print(predictions, Y)\n",
        "    return np.sum(predictions == Y) / Y.size\n",
        "\n",
        "def gradient_descent(X, Y, alpha, iterations):\n",
        "    W1, b1, W2, b2 = init_params()\n",
        "    for i in range(iterations):\n",
        "        Z1, A1, Z2, A2 = forward_prop(W1, b1, W2, b2, X)\n",
        "        dW1, db1, dW2, db2 = back_prop(Z1, A1, Z2, A2, W1, W2, X, Y)\n",
        "        W1, b1, W2, b2 = update_params(W1, b1, W2, b2, dW1, db1, dW2, db2, alpha)\n",
        "        if i % 10 == 0:\n",
        "            print(\"Iteration: \", i)\n",
        "            predictions = get_predictions(A2)\n",
        "            print(get_accuracy(predictions, Y))\n",
        "    return W1, b1, W2, b2"
      ],
      "metadata": {
        "id": "SeRJEatTMgls"
      },
      "execution_count": 8,
      "outputs": []
    },
    {
      "cell_type": "code",
      "source": [
        "W1, b1, W2, b2 = gradient_descent(X_train, Y_train, 0.10, 500)"
      ],
      "metadata": {
        "colab": {
          "base_uri": "https://localhost:8080/"
        },
        "id": "5qE27O5TMm08",
        "outputId": "08f3b9a1-49bd-4d29-d858-946cd2c5ff5f"
      },
      "execution_count": 9,
      "outputs": [
        {
          "output_type": "stream",
          "name": "stdout",
          "text": [
            "Iteration:  0\n",
            "[9 1 1 ... 9 1 4] [9 9 8 ... 9 0 8]\n",
            "0.08860975609756097\n",
            "Iteration:  10\n",
            "[4 3 3 ... 9 0 9] [9 9 8 ... 9 0 8]\n",
            "0.17921951219512194\n",
            "Iteration:  20\n",
            "[9 3 3 ... 9 0 9] [9 9 8 ... 9 0 8]\n",
            "0.24614634146341463\n",
            "Iteration:  30\n",
            "[9 3 3 ... 9 0 9] [9 9 8 ... 9 0 8]\n",
            "0.3112439024390244\n",
            "Iteration:  40\n",
            "[9 3 3 ... 9 0 6] [9 9 8 ... 9 0 8]\n",
            "0.35673170731707315\n",
            "Iteration:  50\n",
            "[9 3 3 ... 9 0 6] [9 9 8 ... 9 0 8]\n",
            "0.3960975609756098\n",
            "Iteration:  60\n",
            "[9 3 3 ... 9 0 6] [9 9 8 ... 9 0 8]\n",
            "0.43102439024390243\n",
            "Iteration:  70\n",
            "[9 7 3 ... 9 0 8] [9 9 8 ... 9 0 8]\n",
            "0.46858536585365856\n",
            "Iteration:  80\n",
            "[9 7 3 ... 9 0 8] [9 9 8 ... 9 0 8]\n",
            "0.5061707317073171\n",
            "Iteration:  90\n",
            "[9 9 8 ... 9 0 8] [9 9 8 ... 9 0 8]\n",
            "0.5407073170731708\n",
            "Iteration:  100\n",
            "[9 9 8 ... 9 0 8] [9 9 8 ... 9 0 8]\n",
            "0.5736341463414634\n",
            "Iteration:  110\n",
            "[9 9 8 ... 9 0 8] [9 9 8 ... 9 0 8]\n",
            "0.6023170731707317\n",
            "Iteration:  120\n",
            "[9 9 8 ... 9 0 8] [9 9 8 ... 9 0 8]\n",
            "0.627609756097561\n",
            "Iteration:  130\n",
            "[9 9 8 ... 9 0 8] [9 9 8 ... 9 0 8]\n",
            "0.6499268292682927\n",
            "Iteration:  140\n",
            "[9 9 8 ... 9 0 8] [9 9 8 ... 9 0 8]\n",
            "0.6706341463414635\n",
            "Iteration:  150\n",
            "[9 9 8 ... 9 0 8] [9 9 8 ... 9 0 8]\n",
            "0.6876585365853658\n",
            "Iteration:  160\n",
            "[9 9 8 ... 9 0 8] [9 9 8 ... 9 0 8]\n",
            "0.7027073170731707\n",
            "Iteration:  170\n",
            "[9 9 8 ... 9 0 8] [9 9 8 ... 9 0 8]\n",
            "0.7155121951219512\n",
            "Iteration:  180\n",
            "[9 9 8 ... 9 0 8] [9 9 8 ... 9 0 8]\n",
            "0.7263414634146341\n",
            "Iteration:  190\n",
            "[9 9 8 ... 9 0 8] [9 9 8 ... 9 0 8]\n",
            "0.735390243902439\n",
            "Iteration:  200\n",
            "[9 9 8 ... 9 0 8] [9 9 8 ... 9 0 8]\n",
            "0.7444634146341463\n",
            "Iteration:  210\n",
            "[9 9 8 ... 9 0 8] [9 9 8 ... 9 0 8]\n",
            "0.7524878048780488\n",
            "Iteration:  220\n",
            "[9 9 8 ... 9 0 8] [9 9 8 ... 9 0 8]\n",
            "0.7591219512195122\n",
            "Iteration:  230\n",
            "[9 9 8 ... 9 0 8] [9 9 8 ... 9 0 8]\n",
            "0.7657073170731707\n",
            "Iteration:  240\n",
            "[9 9 8 ... 9 0 8] [9 9 8 ... 9 0 8]\n",
            "0.7720975609756098\n",
            "Iteration:  250\n",
            "[9 9 8 ... 9 0 8] [9 9 8 ... 9 0 8]\n",
            "0.7771463414634147\n",
            "Iteration:  260\n",
            "[9 9 8 ... 9 0 8] [9 9 8 ... 9 0 8]\n",
            "0.7816341463414634\n",
            "Iteration:  270\n",
            "[9 9 8 ... 9 0 8] [9 9 8 ... 9 0 8]\n",
            "0.7860975609756098\n",
            "Iteration:  280\n",
            "[9 9 8 ... 9 0 8] [9 9 8 ... 9 0 8]\n",
            "0.7900243902439025\n",
            "Iteration:  290\n",
            "[9 9 8 ... 9 0 8] [9 9 8 ... 9 0 8]\n",
            "0.7941219512195122\n",
            "Iteration:  300\n",
            "[9 9 8 ... 9 0 8] [9 9 8 ... 9 0 8]\n",
            "0.7972926829268293\n",
            "Iteration:  310\n",
            "[9 9 8 ... 9 0 8] [9 9 8 ... 9 0 8]\n",
            "0.8007073170731708\n",
            "Iteration:  320\n",
            "[9 9 6 ... 9 0 8] [9 9 8 ... 9 0 8]\n",
            "0.803829268292683\n",
            "Iteration:  330\n",
            "[9 9 6 ... 9 0 8] [9 9 8 ... 9 0 8]\n",
            "0.8068536585365854\n",
            "Iteration:  340\n",
            "[9 9 6 ... 9 0 8] [9 9 8 ... 9 0 8]\n",
            "0.8097317073170732\n",
            "Iteration:  350\n",
            "[9 9 6 ... 9 0 8] [9 9 8 ... 9 0 8]\n",
            "0.811829268292683\n",
            "Iteration:  360\n",
            "[9 9 6 ... 9 0 8] [9 9 8 ... 9 0 8]\n",
            "0.8142195121951219\n",
            "Iteration:  370\n",
            "[9 9 6 ... 9 0 8] [9 9 8 ... 9 0 8]\n",
            "0.8167560975609756\n",
            "Iteration:  380\n",
            "[9 9 6 ... 9 0 8] [9 9 8 ... 9 0 8]\n",
            "0.8189756097560975\n",
            "Iteration:  390\n",
            "[9 9 6 ... 9 0 8] [9 9 8 ... 9 0 8]\n",
            "0.8205121951219512\n",
            "Iteration:  400\n",
            "[9 9 6 ... 9 0 8] [9 9 8 ... 9 0 8]\n",
            "0.8222682926829268\n",
            "Iteration:  410\n",
            "[9 9 6 ... 9 0 8] [9 9 8 ... 9 0 8]\n",
            "0.8238292682926829\n",
            "Iteration:  420\n",
            "[9 9 6 ... 9 0 8] [9 9 8 ... 9 0 8]\n",
            "0.8255365853658536\n",
            "Iteration:  430\n",
            "[9 9 6 ... 9 0 8] [9 9 8 ... 9 0 8]\n",
            "0.827390243902439\n",
            "Iteration:  440\n",
            "[9 9 6 ... 9 0 8] [9 9 8 ... 9 0 8]\n",
            "0.8287073170731707\n",
            "Iteration:  450\n",
            "[9 9 6 ... 9 0 8] [9 9 8 ... 9 0 8]\n",
            "0.8303414634146341\n",
            "Iteration:  460\n",
            "[9 9 6 ... 9 0 8] [9 9 8 ... 9 0 8]\n",
            "0.8318292682926829\n",
            "Iteration:  470\n",
            "[9 9 6 ... 9 0 8] [9 9 8 ... 9 0 8]\n",
            "0.8334146341463414\n",
            "Iteration:  480\n",
            "[9 9 6 ... 9 0 8] [9 9 8 ... 9 0 8]\n",
            "0.8350243902439024\n",
            "Iteration:  490\n",
            "[9 9 6 ... 9 0 8] [9 9 8 ... 9 0 8]\n",
            "0.8362682926829268\n"
          ]
        }
      ]
    },
    {
      "cell_type": "markdown",
      "source": [
        "~84% accuracy >:)"
      ],
      "metadata": {
        "id": "EC5Ybi3ANIqc"
      }
    },
    {
      "cell_type": "code",
      "source": [
        "def make_predictions(X, W1, b1, W2, b2):\n",
        "    _, _, _, A2 = forward_prop(W1, b1, W2, b2, X)\n",
        "    predictions = get_predictions(A2)\n",
        "    return predictions\n",
        "\n",
        "def test_prediction(index, W1, b1, W2, b2):\n",
        "    current_image = X_train[:, index, None]\n",
        "    prediction = make_predictions(X_train[:, index, None], W1, b1, W2, b2)\n",
        "    label = Y_train[index]\n",
        "    print(\"Prediction: \", prediction)\n",
        "    print(\"Label: \", label)\n",
        "\n",
        "    current_image = current_image.reshape((28, 28)) * 255\n",
        "    plt.gray()\n",
        "    plt.imshow(current_image, interpolation='nearest')\n",
        "    plt.show()"
      ],
      "metadata": {
        "id": "skewiZPHNcaX"
      },
      "execution_count": 10,
      "outputs": []
    },
    {
      "cell_type": "code",
      "source": [
        "test_prediction(0, W1, b1, W2, b2)\n",
        "test_prediction(1, W1, b1, W2, b2)\n",
        "test_prediction(2, W1, b1, W2, b2)\n",
        "test_prediction(3, W1, b1, W2, b2)\n",
        "test_prediction(4, W1, b1, W2, b2)\n",
        "test_prediction(5, W1, b1, W2, b2)\n",
        "test_prediction(6, W1, b1, W2, b2)"
      ],
      "metadata": {
        "colab": {
          "base_uri": "https://localhost:8080/",
          "height": 1000
        },
        "id": "wbdDXNb0Nf_k",
        "outputId": "509b215d-9cde-4838-bb8e-a70f356cd833"
      },
      "execution_count": 19,
      "outputs": [
        {
          "output_type": "stream",
          "name": "stdout",
          "text": [
            "Prediction:  [9]\n",
            "Label:  9\n"
          ]
        },
        {
          "output_type": "display_data",
          "data": {
            "text/plain": [
              "<Figure size 640x480 with 1 Axes>"
            ],
            "image/png": "[encoded data removed]"
          },
          "metadata": {}
        },
        {
          "output_type": "stream",
          "name": "stdout",
          "text": [
            "Prediction:  [9]\n",
            "Label:  9\n"
          ]
        },
        {
          "output_type": "display_data",
          "data": {
            "text/plain": [
              "<Figure size 640x480 with 1 Axes>"
            ],
            "image/png": "[encoded data removed]"
          },
          "metadata": {}
        },
        {
          "output_type": "stream",
          "name": "stdout",
          "text": [
            "Prediction:  [6]\n",
            "Label:  8\n"
          ]
        },
        {
          "output_type": "display_data",
          "data": {
            "text/plain": [
              "<Figure size 640x480 with 1 Axes>"
            ],
            "image/png": "[encoded data removed]"
          },
          "metadata": {}
        },
        {
          "output_type": "stream",
          "name": "stdout",
          "text": [
            "Prediction:  [1]\n",
            "Label:  1\n"
          ]
        },
        {
          "output_type": "display_data",
          "data": {
            "text/plain": [
              "<Figure size 640x480 with 1 Axes>"
            ],
            "image/png": "[encoded data removed]"
          },
          "metadata": {}
        },
        {
          "output_type": "stream",
          "name": "stdout",
          "text": [
            "Prediction:  [1]\n",
            "Label:  1\n"
          ]
        },
        {
          "output_type": "display_data",
          "data": {
            "text/plain": [
              "<Figure size 640x480 with 1 Axes>"
            ],
            "image/png": "[encoded data removed]"
          },
          "metadata": {}
        },
        {
          "output_type": "stream",
          "name": "stdout",
          "text": [
            "Prediction:  [5]\n",
            "Label:  5\n"
          ]
        },
        {
          "output_type": "display_data",
          "data": {
            "text/plain": [
              "<Figure size 640x480 with 1 Axes>"
            ],
            "image/png": "[encoded data removed]"
          },
          "metadata": {}
        },
        {
          "output_type": "stream",
          "name": "stdout",
          "text": [
            "Prediction:  [4]\n",
            "Label:  4\n"
          ]
        },
        {
          "output_type": "display_data",
          "data": {
            "text/plain": [
              "<Figure size 640x480 with 1 Axes>"
            ],
            "image/png": "[encoded data removed]"
          },
          "metadata": {}
        }
      ]
    },
    {
      "cell_type": "code",
      "source": [
        "dev_predictions = make_predictions(X_dev, W1, b1, W2, b2)\n",
        "get_accuracy(dev_predictions, Y_dev)"
      ],
      "metadata": {
        "colab": {
          "base_uri": "https://localhost:8080/"
        },
        "id": "iA0bvFosNz5o",
        "outputId": "9303b6a6-3fdc-4141-a84b-475c5c21e8e6"
      },
      "execution_count": 15,
      "outputs": [
        {
          "output_type": "stream",
          "name": "stdout",
          "text": [
            "[4 7 6 0 5 9 4 6 1 0 1 0 1 4 7 9 2 1 3 5 2 9 7 9 5 7 5 6 9 7 2 1 4 9 4 4 9\n",
            " 7 3 6 8 9 3 9 3 3 8 4 0 6 0 5 4 4 1 3 9 4 4 8 7 9 3 7 6 0 1 1 1 5 8 5 4 1\n",
            " 1 1 6 9 3 1 0 2 0 1 1 9 5 0 9 3 6 4 1 3 4 8 0 5 6 1 1 6 6 6 8 3 1 4 0 5 8\n",
            " 5 5 8 9 6 0 1 7 1 7 3 3 7 6 5 1 2 7 9 3 8 8 2 0 1 8 4 7 3 1 4 8 5 4 6 5 7\n",
            " 7 6 1 2 1 9 1 4 6 1 5 6 8 7 9 3 9 9 9 0 0 3 4 8 1 8 8 3 2 8 8 1 0 4 1 2 4\n",
            " 3 7 2 4 8 0 1 9 0 8 8 1 0 6 9 7 6 4 8 7 3 4 7 7 2 1 9 2 1 6 1 1 4 6 8 9 4\n",
            " 3 7 4 7 6 0 0 2 6 1 9 1 2 8 7 5 3 9 6 0 1 3 6 4 8 8 1 3 3 6 2 5 0 0 1 8 8\n",
            " 2 6 2 5 1 2 4 5 0 4 5 9 2 0 0 1 1 1 4 5 1 9 2 0 1 1 8 1 6 4 7 8 9 9 6 1 5\n",
            " 5 1 3 5 3 9 0 2 4 0 6 4 1 3 5 4 3 4 2 8 8 5 6 1 6 3 5 1 8 4 9 7 6 5 6 4 8\n",
            " 2 8 7 3 5 4 2 6 0 0 2 2 6 2 3 1 5 8 0 1 9 3 4 9 7 2 1 8 4 4 8 9 5 8 6 6 5\n",
            " 4 0 2 2 3 0 9 5 9 9 1 5 2 8 7 2 3 3 2 9 5 6 4 0 8 0 3 5 9 3 4 6 5 9 3 5 0\n",
            " 2 2 3 4 3 2 3 4 4 6 8 0 9 0 0 0 8 0 8 2 7 6 4 4 4 8 3 4 7 4 9 5 6 1 5 2 8\n",
            " 1 3 8 3 1 0 8 2 2 0 5 4 6 2 1 8 8 6 8 4 9 3 0 8 5 6 2 4 7 0 7 3 4 7 2 0 4\n",
            " 6 4 1 7 0 3 5 3 9 4 6 1 1 8 0 4 7 9 1 2 5 2 7 8 3 9 5 2 2 0 8 8 7 8 4 4 2\n",
            " 6 7 1 1 4 8 8 3 1 9 7 1 8 7 4 2 9 1 0 8 2 4 9 9 3 7 1 6 8 9 7 1 9 1 3 1 7\n",
            " 7 6 2 7 8 3 7 1 4 6 6 6 5 7 5 3 8 2 0 1 4 0 6 2 9 7 4 2 1 4 0 3 1 2 2 1 6\n",
            " 9 1 6 1 5 4 2 2 1 5 7 5 2 2 1 7 5 9 1 6 7 4 9 8 3 9 5 9 3 9 4 8 0 7 3 8 6\n",
            " 4 5 3 5 2 4 0 4 1 7 5 8 3 1 8 4 8 0 7 4 3 2 8 8 4 6 3 9 8 1 7 5 2 7 6 2 8\n",
            " 6 8 9 6 3 8 1 8 6 2 7 9 7 6 4 6 1 3 8 2 3 7 3 1 4 7 9 7 6 9 9 2 3 7 7 6 8\n",
            " 4 9 0 9 3 3 8 1 2 2 4 8 9 2 4 6 3 6 7 0 8 9 4 7 8 8 8 2 1 8 1 4 7 0 4 2 0\n",
            " 3 1 1 9 4 4 9 3 1 9 9 4 3 7 3 3 7 6 5 9 4 4 0 0 7 2 1 4 2 1 5 1 1 2 6 2 0\n",
            " 3 5 9 8 6 0 7 8 0 7 2 7 2 1 4 0 1 8 5 6 3 1 1 6 9 5 0 0 6 0 4 8 1 4 1 2 6\n",
            " 4 8 2 1 8 5 8 3 0 8 6 6 2 5 3 7 1 6 1 8 5 8 1 9 6 3 2 8 1 3 5 5 4 1 8 9 8\n",
            " 1 6 0 2 1 4 8 4 6 0 3 8 9 0 9 1 3 1 9 7 1 2 6 7 7 6 1 4 4 0 7 6 0 8 1 3 1\n",
            " 4 5 1 3 7 4 5 5 1 3 4 9 5 7 1 8 6 1 5 6 8 1 2 4 3 2 3 7 6 7 1 3 3 1 4 9 4\n",
            " 1 2 0 0 7 8 4 1 2 7 9 6 5 8 1 1 5 5 1 9 8 6 8 3 7 1 2 0 4 1 2 7 6 2 4 1 2\n",
            " 5 7 5 6 1 8 2 2 4 8 7 4 1 8 9 1 1 9 1 6 3 6 8 9 4 8 0 1 4 5 4 8 5 5 9 7 2\n",
            " 7] [4 7 6 0 5 4 4 6 1 0 1 0 1 4 7 7 2 1 7 5 2 9 5 9 5 7 5 2 9 7 2 1 4 9 4 4 9\n",
            " 9 3 4 8 9 5 9 3 8 6 4 0 6 0 0 4 9 1 3 9 6 4 8 7 4 3 7 6 0 1 1 1 5 8 5 4 1\n",
            " 8 1 6 9 3 1 8 6 0 1 1 9 5 0 9 3 6 4 1 3 4 3 5 5 6 1 1 6 5 6 8 3 1 4 0 5 8\n",
            " 8 5 8 9 6 5 1 7 1 7 3 3 7 6 4 2 2 7 9 3 3 8 2 0 1 8 4 7 3 1 4 8 5 5 0 5 7\n",
            " 7 6 1 2 1 9 1 4 6 1 5 6 8 7 9 3 9 9 9 5 0 3 4 8 1 8 8 3 2 8 8 1 0 4 1 2 4\n",
            " 5 7 2 4 8 2 1 9 0 8 1 1 4 6 9 7 6 9 8 3 3 4 7 7 2 1 8 2 1 6 1 1 4 6 8 9 4\n",
            " 3 7 4 7 2 0 0 2 6 1 9 1 2 8 7 5 3 9 6 0 3 8 6 9 8 8 1 3 3 6 7 8 0 0 1 8 8\n",
            " 5 6 2 9 1 2 4 5 0 4 5 9 2 0 0 1 3 1 4 5 1 9 8 0 1 1 8 2 6 4 7 0 7 7 6 1 5\n",
            " 5 1 5 5 3 9 0 2 4 0 6 6 9 5 5 4 5 4 2 8 2 5 6 8 6 3 5 1 8 9 9 9 0 1 6 4 8\n",
            " 2 8 7 3 5 4 2 6 0 0 3 2 6 2 3 1 3 8 0 1 9 3 4 9 7 2 1 8 4 4 8 9 0 8 6 6 5\n",
            " 4 0 5 2 3 0 9 5 9 4 1 5 2 0 7 2 3 3 2 9 5 6 4 0 8 0 5 5 3 3 7 6 5 9 3 8 0\n",
            " 2 2 3 4 3 2 3 4 9 6 8 0 9 5 0 0 8 0 5 2 7 8 4 4 4 8 3 4 7 4 9 0 6 1 5 2 1\n",
            " 1 3 5 3 8 0 8 2 2 0 5 4 6 2 1 1 8 6 8 4 9 3 0 8 5 6 2 4 7 0 7 3 4 7 2 0 4\n",
            " 6 4 1 7 0 3 5 7 9 4 6 1 1 8 0 9 7 9 1 2 5 2 7 8 3 9 5 2 2 0 4 8 7 5 4 4 2\n",
            " 6 7 1 1 4 8 8 3 7 9 7 8 6 7 4 2 9 1 0 8 2 4 9 9 3 7 7 0 8 9 7 1 9 1 3 1 7\n",
            " 7 0 2 7 8 8 7 5 4 6 6 6 5 3 8 3 8 5 0 1 4 0 6 9 9 7 4 2 1 4 0 3 8 2 2 1 6\n",
            " 9 1 6 1 3 4 2 2 7 5 3 5 2 2 1 7 6 9 7 6 7 4 9 8 3 9 5 9 3 9 4 8 0 3 6 8 6\n",
            " 4 5 3 5 2 5 0 4 1 7 0 8 3 1 8 4 8 0 7 4 3 2 2 8 2 6 3 9 8 1 7 5 2 7 6 2 8\n",
            " 6 8 9 6 3 8 1 3 7 4 9 9 7 6 4 6 2 3 8 2 3 7 3 3 4 7 9 7 6 9 9 2 3 7 5 6 8\n",
            " 4 4 0 4 3 3 8 1 2 2 4 6 9 8 4 6 3 6 7 0 3 7 4 7 8 8 3 2 1 8 1 4 7 0 4 3 0\n",
            " 5 1 1 9 4 4 9 3 1 4 9 4 3 7 3 3 7 6 6 9 4 4 0 0 7 2 1 4 2 1 5 1 1 2 6 2 0\n",
            " 3 5 9 8 6 0 7 8 0 7 2 7 2 1 4 0 1 8 5 6 3 1 1 6 9 5 0 0 6 0 4 3 1 5 1 2 6\n",
            " 4 8 2 1 8 5 8 3 0 8 6 6 3 5 3 7 1 2 1 8 5 8 1 9 6 5 2 8 1 3 3 5 4 1 3 9 8\n",
            " 1 6 0 2 1 4 8 4 6 5 3 8 9 0 8 1 3 1 9 9 1 2 6 2 7 6 1 5 4 0 7 6 0 8 1 3 1\n",
            " 4 5 1 3 7 4 5 8 1 3 4 9 5 9 1 8 6 1 5 5 8 1 2 3 3 2 3 7 6 7 1 3 3 1 5 9 4\n",
            " 1 2 2 0 7 8 4 1 2 7 9 0 5 8 1 1 5 5 1 7 8 6 3 3 7 1 2 0 4 1 2 7 6 6 4 1 6\n",
            " 6 7 3 6 1 8 2 2 4 2 7 4 1 8 9 1 1 9 1 6 3 6 8 4 4 8 0 1 4 5 4 8 5 5 9 7 2\n",
            " 7]\n"
          ]
        },
        {
          "output_type": "execute_result",
          "data": {
            "text/plain": [
              "0.848"
            ]
          },
          "metadata": {},
          "execution_count": 15
        }
      ]
    },
    {
      "cell_type": "markdown",
      "source": [
        "~85% accuracy >:-)"
      ],
      "metadata": {
        "id": "E6IWs6cCN391"
      }
    }
  ]
}